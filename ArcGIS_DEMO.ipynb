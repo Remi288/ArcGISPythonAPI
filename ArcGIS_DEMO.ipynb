{
 "cells": [
  {
   "cell_type": "markdown",
   "metadata": {},
   "source": [
    "# ArcGIS Python API using Nigeria Covid-19 content  as the feature layer to the map"
   ]
  },
  {
   "cell_type": "markdown",
   "metadata": {},
   "source": [
    "## Installing ArcGIS API for Python\n",
    "Following the steps below, you will be able to install the API on your machine and get to work with this Rich Python Library for Spatial Data Science\n",
    "\n",
    "* Download Anaconda or MiniConda\n",
    "* Jupyter Notebooks"
   ]
  },
  {
   "cell_type": "markdown",
   "metadata": {},
   "source": [
    "## Using the Documentation on ArcGIS on installation via Conda\n",
    "* conda install -c esri arcgis\n",
    "\n",
    "## Understanding Conda \n",
    "You can add a package to the currently active environment at the terminal with the following command:\n",
    "* conda install <package_name>\n",
    "### You can also specify specific environments and channels with the --name and --channel flags:\n",
    "* conda install --name <environment_name> --channel <channel_name> <package_name>\n",
    "\n",
    "### Create an environment:\n",
    "* conda create --name gis-enviro - name your environmnent anything you want\n",
    "\n",
    "### Install the ArcGIS API for Python¶¶\n",
    "* conda install --name gis-enviro -c esri arcgis"
   ]
  },
  {
   "cell_type": "markdown",
   "metadata": {},
   "source": [
    "### Creating Maps & Adding Layers\n",
    "Importing the Python Libraries into our project.\n",
    "\n",
    "* call the ArcGIS library\n",
    "* import the GIS capabilities\n",
    "* declare a variable and assign the GIS Methods to it"
   ]
  },
  {
   "cell_type": "code",
   "execution_count": 76,
   "metadata": {},
   "outputs": [],
   "source": [
    "from arcgis.gis import GIS\n",
    "from getpass import getpass"
   ]
  },
  {
   "cell_type": "markdown",
   "metadata": {},
   "source": [
    "password = getpass()"
   ]
  },
  {
   "cell_type": "markdown",
   "metadata": {},
   "source": [
    "I will be using **getpass()** - So basically I need the getpass() function to be able to store my password for my ArcGIS Online account and send that as an aunthentication request. The reason why I called this function I don't want anyone reading this to be able to see my password while I record the video tutorial or while I print this document. Its also a great feature for security purposes which keeps all sensitive information secure."
   ]
  },
  {
   "cell_type": "markdown",
   "metadata": {},
   "source": [
    "gis = GIS(\"https://www.arcgis.com\", \"remi288\", password)"
   ]
  },
  {
   "cell_type": "markdown",
   "metadata": {},
   "source": [
    "# Authentication (Login In) to the ArcGIS Online Account\n"
   ]
  },
  {
   "cell_type": "markdown",
   "metadata": {},
   "source": [
    "For us to get permission (be allowed) to interact with the platform, we need to be authenticated to perform the operations hence that requires that we are logged in.\n",
    "\n",
    "So, I've created a password variable which is going to store the input from the getpass() function.\n",
    "\n",
    "The variable gis is the one which is going to be used to authenticate the user based on the following parameters:\n",
    "\n",
    "* the site URL in this case which is the URL for the ArcGIS Online Platform\n",
    "* the username of the person and\n",
    "* the password of the user\n",
    "All this is done via the GIS() method and the parameters to be passed are the one's I have just mentioned above."
   ]
  },
  {
   "cell_type": "markdown",
   "metadata": {},
   "source": [
    "map = gis.map(\"Africa\")\n",
    "map"
   ]
  },
  {
   "cell_type": "code",
   "execution_count": 77,
   "metadata": {},
   "outputs": [],
   "source": [
    "gis = GIS()"
   ]
  },
  {
   "cell_type": "markdown",
   "metadata": {},
   "source": [
    "# Login as an ANONYMOUS USER"
   ]
  },
  {
   "cell_type": "code",
   "execution_count": 78,
   "metadata": {
    "scrolled": true
   },
   "outputs": [
    {
     "data": {
      "application/vnd.jupyter.widget-view+json": {
       "model_id": "d1e9c6ad45c84058a608e59048537913",
       "version_major": 2,
       "version_minor": 0
      },
      "text/plain": [
       "MapView(layout=Layout(height='400px', width='100%'))"
      ]
     },
     "metadata": {},
     "output_type": "display_data"
    },
    {
     "data": {
      "text/html": [
       "<div class=\"map-static-img-preview-5c214cec-cfe8-4a18-a2b9-9c7047cb4280\"><img src=\"\"></img></div>"
      ],
      "text/plain": [
       "<IPython.core.display.HTML object>"
      ]
     },
     "metadata": {},
     "output_type": "display_data"
    }
   ],
   "source": [
    "map = gis.map(\"Africa\")\n",
    "map"
   ]
  },
  {
   "cell_type": "code",
   "execution_count": 7,
   "metadata": {},
   "outputs": [
    {
     "data": {
      "text/plain": [
       "['__class__',\n",
       " '__del__',\n",
       " '__delattr__',\n",
       " '__dict__',\n",
       " '__dir__',\n",
       " '__doc__',\n",
       " '__eq__',\n",
       " '__format__',\n",
       " '__ge__',\n",
       " '__getattribute__',\n",
       " '__getstate__',\n",
       " '__gt__',\n",
       " '__hash__',\n",
       " '__init__',\n",
       " '__init_subclass__',\n",
       " '__le__',\n",
       " '__lt__',\n",
       " '__module__',\n",
       " '__ne__',\n",
       " '__new__',\n",
       " '__reduce__',\n",
       " '__reduce_ex__',\n",
       " '__repr__',\n",
       " '__setattr__',\n",
       " '__setstate__',\n",
       " '__sizeof__',\n",
       " '__str__',\n",
       " '__subclasshook__',\n",
       " '__weakref__',\n",
       " '_add_graphic',\n",
       " '_add_layer_to_webmap',\n",
       " '_add_layer_to_widget',\n",
       " '_add_notifiers',\n",
       " '_add_notype_layer',\n",
       " '_add_overlay',\n",
       " '_add_this_graphic',\n",
       " '_add_this_notype_layer',\n",
       " '_add_to_hashed_layers',\n",
       " '_apply_renderer_to_webmap_layer_id',\n",
       " '_assemble_img_preview_html_str',\n",
       " '_auth_mode',\n",
       " '_basemap',\n",
       " '_call_widget_constructed',\n",
       " '_cell_output_screenshot_callback_resp',\n",
       " '_cell_output_screenshot_update_callback',\n",
       " '_center',\n",
       " '_center_long_lat',\n",
       " '_check_for_drawn_layers',\n",
       " '_check_for_renderer_updates',\n",
       " '_check_if_graphic_already_saved',\n",
       " '_check_if_webmap',\n",
       " '_check_if_webscene',\n",
       " '_check_item_properties',\n",
       " '_click_handlers',\n",
       " '_comm_changed',\n",
       " '_compare',\n",
       " '_cross_validation_lock',\n",
       " '_custom_msg',\n",
       " '_default_keys',\n",
       " '_default_webscene_text_property',\n",
       " '_display_callbacks',\n",
       " '_dlinks',\n",
       " '_dom_classes',\n",
       " '_draw_end_handlers',\n",
       " '_draw_featureset',\n",
       " '_draw_these_graphics_on_widget_load',\n",
       " '_draw_these_notype_layers_on_widget_load',\n",
       " '_extent',\n",
       " '_file_output_screenshot_callback_resp',\n",
       " '_file_output_screenshot_update_callback',\n",
       " '_gallery_basemaps',\n",
       " '_gen_repr_from_keys',\n",
       " '_get_embed_state',\n",
       " '_get_graphic_from_feature',\n",
       " '_get_hash',\n",
       " '_get_trait_default_generator',\n",
       " '_handle_custom_msg',\n",
       " '_handle_displayed',\n",
       " '_handle_map_msg',\n",
       " '_handle_msg',\n",
       " '_hashed_layers',\n",
       " '_heading',\n",
       " '_holding_sync',\n",
       " '_image_overlays_to_remove',\n",
       " '_infer_layers',\n",
       " '_ipython_display_',\n",
       " '_is_hashable',\n",
       " '_is_numpy',\n",
       " '_is_reachable',\n",
       " '_isinstance',\n",
       " '_js_cdn_override',\n",
       " '_layers_to_remove',\n",
       " '_link_writeonly_extent',\n",
       " '_link_writeonly_heading',\n",
       " '_link_writeonly_rotation',\n",
       " '_link_writeonly_tilt',\n",
       " '_lock_property',\n",
       " '_log_default',\n",
       " '_mapview_uuid_to_dlinks',\n",
       " '_model_id',\n",
       " '_model_module',\n",
       " '_model_module_version',\n",
       " '_model_name',\n",
       " '_msg_callbacks',\n",
       " '_notify_observers',\n",
       " '_notify_trait',\n",
       " '_overlay_these_images_on_widget_load',\n",
       " '_overlay_this_image',\n",
       " '_parse_js_resp',\n",
       " '_portal_sharing_rest_url',\n",
       " '_portal_token',\n",
       " '_portal_url',\n",
       " '_preview_image_display_handler',\n",
       " '_preview_image_update_callback',\n",
       " '_preview_screenshot_callback_resp',\n",
       " '_property_lock',\n",
       " '_raise_time_extent_exception',\n",
       " '_raster',\n",
       " '_readonly_center',\n",
       " '_readonly_extent',\n",
       " '_readonly_heading',\n",
       " '_readonly_rotation',\n",
       " '_readonly_scale',\n",
       " '_readonly_tilt',\n",
       " '_readonly_webmap_from_js',\n",
       " '_readonly_zoom',\n",
       " '_register_validator',\n",
       " '_remove_from_notype_layers',\n",
       " '_remove_notifiers',\n",
       " '_remove_overlay',\n",
       " '_repr_keys',\n",
       " '_rotation',\n",
       " '_save_as_webmap',\n",
       " '_save_as_webscene',\n",
       " '_scale',\n",
       " '_send',\n",
       " '_setup_default_basemap',\n",
       " '_setup_gis_properties',\n",
       " '_setup_js_cdn',\n",
       " '_should_send_property',\n",
       " '_snap_to_zoom',\n",
       " '_states_to_send',\n",
       " '_sync_navigation',\n",
       " '_synced_mapviews',\n",
       " '_tilt',\n",
       " '_trait_default_generators',\n",
       " '_trait_from_json',\n",
       " '_trait_notifiers',\n",
       " '_trait_to_json',\n",
       " '_trait_validators',\n",
       " '_trait_values',\n",
       " '_trigger_interactive_draw_mode_for',\n",
       " '_trigger_new_jlab_window_with_args',\n",
       " '_trigger_print_js_debug_info',\n",
       " '_trigger_screenshot_with_args',\n",
       " '_trigger_webscene_save_to_this_portal_id',\n",
       " '_unsync_navigation',\n",
       " '_update_as_webmap',\n",
       " '_update_as_webscene',\n",
       " '_update_webmap_layers_from_js',\n",
       " '_username',\n",
       " '_uuid',\n",
       " '_view_count',\n",
       " '_view_module',\n",
       " '_view_module_version',\n",
       " '_view_name',\n",
       " '_webmap',\n",
       " '_webscene',\n",
       " '_widget_construction_callback',\n",
       " '_zoom',\n",
       " 'add_class',\n",
       " 'add_layer',\n",
       " 'add_traits',\n",
       " 'basemap',\n",
       " 'basemaps',\n",
       " 'center',\n",
       " 'class_own_trait_events',\n",
       " 'class_own_traits',\n",
       " 'class_trait_names',\n",
       " 'class_traits',\n",
       " 'clear_graphics',\n",
       " 'close',\n",
       " 'close_all',\n",
       " 'comm',\n",
       " 'cross_validation_lock',\n",
       " 'display_message',\n",
       " 'draw',\n",
       " 'end_time',\n",
       " 'export_to_html',\n",
       " 'extent',\n",
       " 'gallery_basemaps',\n",
       " 'get_manager_state',\n",
       " 'get_state',\n",
       " 'get_view_spec',\n",
       " 'gis',\n",
       " 'handle_comm_opened',\n",
       " 'has_trait',\n",
       " 'heading',\n",
       " 'hide_mode_switch',\n",
       " 'hold_sync',\n",
       " 'hold_trait_notifications',\n",
       " 'jupyter_target',\n",
       " 'keys',\n",
       " 'layers',\n",
       " 'layout',\n",
       " 'legend',\n",
       " 'local_raster_file_format',\n",
       " 'log',\n",
       " 'mode',\n",
       " 'model_id',\n",
       " 'notify_change',\n",
       " 'observe',\n",
       " 'on_click',\n",
       " 'on_displayed',\n",
       " 'on_draw_end',\n",
       " 'on_msg',\n",
       " 'on_trait_change',\n",
       " 'on_widget_constructed',\n",
       " 'open',\n",
       " 'print_service_url',\n",
       " 'ready',\n",
       " 'remove_class',\n",
       " 'remove_layers',\n",
       " 'rotation',\n",
       " 'save',\n",
       " 'scale',\n",
       " 'send',\n",
       " 'send_state',\n",
       " 'set_js_cdn',\n",
       " 'set_state',\n",
       " 'set_time_extent',\n",
       " 'set_trait',\n",
       " 'setup_instance',\n",
       " 'snap_to_zoom',\n",
       " 'start_time',\n",
       " 'sync_navigation',\n",
       " 'tab_mode',\n",
       " 'take_screenshot',\n",
       " 'tilt',\n",
       " 'toggle_window_view',\n",
       " 'trait_defaults',\n",
       " 'trait_events',\n",
       " 'trait_has_value',\n",
       " 'trait_metadata',\n",
       " 'trait_names',\n",
       " 'trait_values',\n",
       " 'traits',\n",
       " 'unobserve',\n",
       " 'unobserve_all',\n",
       " 'unsync_navigation',\n",
       " 'update',\n",
       " 'webmap',\n",
       " 'webmap_item',\n",
       " 'webscene_item',\n",
       " 'widget_types',\n",
       " 'widgets',\n",
       " 'zoom',\n",
       " 'zoom_to_layer']"
      ]
     },
     "execution_count": 7,
     "metadata": {},
     "output_type": "execute_result"
    }
   ],
   "source": [
    "dir(map)"
   ]
  },
  {
   "cell_type": "code",
   "execution_count": 20,
   "metadata": {},
   "outputs": [],
   "source": [
    "map.center =[9.077751, 8.6774567]\n",
    "map.zoom = 6"
   ]
  },
  {
   "cell_type": "code",
   "execution_count": 11,
   "metadata": {},
   "outputs": [
    {
     "data": {
      "text/plain": [
       "['dark-gray',\n",
       " 'dark-gray-vector',\n",
       " 'gray',\n",
       " 'gray-vector',\n",
       " 'hybrid',\n",
       " 'national-geographic',\n",
       " 'oceans',\n",
       " 'osm',\n",
       " 'satellite',\n",
       " 'streets',\n",
       " 'streets-navigation-vector',\n",
       " 'streets-night-vector',\n",
       " 'streets-relief-vector',\n",
       " 'streets-vector',\n",
       " 'terrain',\n",
       " 'topo',\n",
       " 'topo-vector']"
      ]
     },
     "execution_count": 11,
     "metadata": {},
     "output_type": "execute_result"
    }
   ],
   "source": [
    "map.basemaps"
   ]
  },
  {
   "cell_type": "markdown",
   "metadata": {},
   "source": [
    "### Get the JSON feedback for all available Basemaps to use within the map display\n",
    "\n",
    "A base map is a layer with geographic information that serves as a background. A base map provides context for additional layers that are overlaid on top of the base map. Base maps usually provide location references for features that do not change often like boundaries, rivers, lakes, roads, and highways."
   ]
  },
  {
   "cell_type": "code",
   "execution_count": 21,
   "metadata": {},
   "outputs": [],
   "source": [
    "map.basemap = 'dark-gray-vector'"
   ]
  },
  {
   "cell_type": "markdown",
   "metadata": {},
   "source": [
    "### Searching and Retrieving OpenData\n",
    "* create a variable to store results\n",
    "* define the search terms\n",
    "* define the item types you want to search\n",
    "* if you don't want to flood your screen with results, define the maximum items to display\n",
    "* call the variable to display the results"
   ]
  },
  {
   "cell_type": "code",
   "execution_count": 15,
   "metadata": {},
   "outputs": [
    {
     "name": "stdout",
     "output_type": "stream",
     "text": [
      "<class 'list'>\n"
     ]
    }
   ],
   "source": [
    "display_content = gis.content.search(\"Nigeria Covid-19\", item_type=\"Feature Layer\", max_items=10)\n",
    "print(type(display_content))"
   ]
  },
  {
   "cell_type": "code",
   "execution_count": 17,
   "metadata": {
    "scrolled": false
   },
   "outputs": [
    {
     "data": {
      "text/html": [
       "<div class=\"item_container\" style=\"height: auto; overflow: hidden; border: 1px solid #cfcfcf; border-radius: 2px; background: #f6fafa; line-height: 1.21429em; padding: 10px;\">\n",
       "                    <div class=\"item_left\" style=\"width: 210px; float: left;\">\n",
       "                       <a href='https://www.arcgis.com/home/item.html?id=1effc7a8936f4c639202c72807fb2ee5' target='_blank'>\n",
       "                        <img src='http://static.arcgis.com/images/desktopapp.png' class=\"itemThumbnail\">\n",
       "                       </a>\n",
       "                    </div>\n",
       "\n",
       "                    <div class=\"item_right\"     style=\"float: none; width: auto; overflow: hidden;\">\n",
       "                        <a href='https://www.arcgis.com/home/item.html?id=1effc7a8936f4c639202c72807fb2ee5' target='_blank'><b>NGA_State_Incidents_09_04_2020</b>\n",
       "                        </a>\n",
       "                        <br/><img src='https://www.arcgis.com/home/js/jsapi/esri/css/images/item_type_icons/featureshosted16.png' style=\"vertical-align:middle;\">Feature Layer Collection by VAISNL\n",
       "                        <br/>Last Modified: April 09, 2020\n",
       "                        <br/>0 comments, 93 views\n",
       "                    </div>\n",
       "                </div>\n",
       "                "
      ],
      "text/plain": [
       "<Item title:\"NGA_State_Incidents_09_04_2020\" type:Feature Layer Collection owner:VAISNL>"
      ]
     },
     "metadata": {},
     "output_type": "display_data"
    },
    {
     "data": {
      "text/html": [
       "<div class=\"item_container\" style=\"height: auto; overflow: hidden; border: 1px solid #cfcfcf; border-radius: 2px; background: #f6fafa; line-height: 1.21429em; padding: 10px;\">\n",
       "                    <div class=\"item_left\" style=\"width: 210px; float: left;\">\n",
       "                       <a href='https://www.arcgis.com/home/item.html?id=d312fc3000104c04a8deed586acf387c' target='_blank'>\n",
       "                        <img src='https://www.arcgis.com/sharing/rest//content/items/d312fc3000104c04a8deed586acf387c/info/thumbnail/ago_downloaded.png' class=\"itemThumbnail\">\n",
       "                       </a>\n",
       "                    </div>\n",
       "\n",
       "                    <div class=\"item_right\"     style=\"float: none; width: auto; overflow: hidden;\">\n",
       "                        <a href='https://www.arcgis.com/home/item.html?id=d312fc3000104c04a8deed586acf387c' target='_blank'><b>NGA_State_Incidents_NCDC_Join</b>\n",
       "                        </a>\n",
       "                        <br/><img src='https://www.arcgis.com/home/js/jsapi/esri/css/images/item_type_icons/featureshosted16.png' style=\"vertical-align:middle;\">Feature Layer Collection by VAISNL\n",
       "                        <br/>Last Modified: April 08, 2020\n",
       "                        <br/>0 comments, 214 views\n",
       "                    </div>\n",
       "                </div>\n",
       "                "
      ],
      "text/plain": [
       "<Item title:\"NGA_State_Incidents_NCDC_Join\" type:Feature Layer Collection owner:VAISNL>"
      ]
     },
     "metadata": {},
     "output_type": "display_data"
    },
    {
     "data": {
      "text/html": [
       "<div class=\"item_container\" style=\"height: auto; overflow: hidden; border: 1px solid #cfcfcf; border-radius: 2px; background: #f6fafa; line-height: 1.21429em; padding: 10px;\">\n",
       "                    <div class=\"item_left\" style=\"width: 210px; float: left;\">\n",
       "                       <a href='https://www.arcgis.com/home/item.html?id=76848c2e2ff846edac0253f54a52a853' target='_blank'>\n",
       "                        <img src='https://www.arcgis.com/sharing/rest//content/items/76848c2e2ff846edac0253f54a52a853/info/thumbnail/ago_downloaded.png' class=\"itemThumbnail\">\n",
       "                       </a>\n",
       "                    </div>\n",
       "\n",
       "                    <div class=\"item_right\"     style=\"float: none; width: auto; overflow: hidden;\">\n",
       "                        <a href='https://www.arcgis.com/home/item.html?id=76848c2e2ff846edac0253f54a52a853' target='_blank'><b>GRID3 NGA - Co-morbidities Risk Profile per Ward - copy</b>\n",
       "                        </a>\n",
       "                        <br/>This profile identifies population that may be at-risk of severe COVID-19 infection or hospitalization due to co-morbidities in Nigeria per ward.<img src='https://www.arcgis.com/home/js/jsapi/esri/css/images/item_type_icons/featureshosted16.png' style=\"vertical-align:middle;\">Feature Layer Collection by Jannah0202\n",
       "                        <br/>Last Modified: December 11, 2020\n",
       "                        <br/>0 comments, 2 views\n",
       "                    </div>\n",
       "                </div>\n",
       "                "
      ],
      "text/plain": [
       "<Item title:\"GRID3 NGA - Co-morbidities Risk Profile per Ward - copy\" type:Feature Layer Collection owner:Jannah0202>"
      ]
     },
     "metadata": {},
     "output_type": "display_data"
    },
    {
     "data": {
      "text/html": [
       "<div class=\"item_container\" style=\"height: auto; overflow: hidden; border: 1px solid #cfcfcf; border-radius: 2px; background: #f6fafa; line-height: 1.21429em; padding: 10px;\">\n",
       "                    <div class=\"item_left\" style=\"width: 210px; float: left;\">\n",
       "                       <a href='https://www.arcgis.com/home/item.html?id=d627f2d5b47e40de9088a3ceec44a4eb' target='_blank'>\n",
       "                        <img src='https://www.arcgis.com/sharing/rest//content/items/d627f2d5b47e40de9088a3ceec44a4eb/info/thumbnail/ago_downloaded.png' class=\"itemThumbnail\">\n",
       "                       </a>\n",
       "                    </div>\n",
       "\n",
       "                    <div class=\"item_right\"     style=\"float: none; width: auto; overflow: hidden;\">\n",
       "                        <a href='https://www.arcgis.com/home/item.html?id=d627f2d5b47e40de9088a3ceec44a4eb' target='_blank'><b>Nigeria_Cases</b>\n",
       "                        </a>\n",
       "                        <br/><img src='https://www.arcgis.com/home/js/jsapi/esri/css/images/item_type_icons/featureshosted16.png' style=\"vertical-align:middle;\">Feature Layer Collection by anwuli.okwuashi_SLUSTL\n",
       "                        <br/>Last Modified: July 19, 2020\n",
       "                        <br/>0 comments, 10 views\n",
       "                    </div>\n",
       "                </div>\n",
       "                "
      ],
      "text/plain": [
       "<Item title:\"Nigeria_Cases\" type:Feature Layer Collection owner:anwuli.okwuashi_SLUSTL>"
      ]
     },
     "metadata": {},
     "output_type": "display_data"
    },
    {
     "data": {
      "text/html": [
       "<div class=\"item_container\" style=\"height: auto; overflow: hidden; border: 1px solid #cfcfcf; border-radius: 2px; background: #f6fafa; line-height: 1.21429em; padding: 10px;\">\n",
       "                    <div class=\"item_left\" style=\"width: 210px; float: left;\">\n",
       "                       <a href='https://www.arcgis.com/home/item.html?id=dfa6fb49d34645e6b35e91bb230f5bb1' target='_blank'>\n",
       "                        <img src='https://www.arcgis.com/sharing/rest//content/items/dfa6fb49d34645e6b35e91bb230f5bb1/info/thumbnail/ago_downloaded.png' class=\"itemThumbnail\">\n",
       "                       </a>\n",
       "                    </div>\n",
       "\n",
       "                    <div class=\"item_right\"     style=\"float: none; width: auto; overflow: hidden;\">\n",
       "                        <a href='https://www.arcgis.com/home/item.html?id=dfa6fb49d34645e6b35e91bb230f5bb1' target='_blank'><b>Pretesting Nigeria COVID-19 Vaccine KAPB_stakeholder</b>\n",
       "                        </a>\n",
       "                        <br/><img src='https://www.arcgis.com/home/js/jsapi/esri/css/images/item_type_icons/featureshosted16.png' style=\"vertical-align:middle;\">Feature Layer Collection by solomonj@who.int_WHO\n",
       "                        <br/>Last Modified: December 02, 2020\n",
       "                        <br/>0 comments, 70 views\n",
       "                    </div>\n",
       "                </div>\n",
       "                "
      ],
      "text/plain": [
       "<Item title:\"Pretesting Nigeria COVID-19 Vaccine KAPB_stakeholder\" type:Feature Layer Collection owner:solomonj@who.int_WHO>"
      ]
     },
     "metadata": {},
     "output_type": "display_data"
    },
    {
     "data": {
      "text/html": [
       "<div class=\"item_container\" style=\"height: auto; overflow: hidden; border: 1px solid #cfcfcf; border-radius: 2px; background: #f6fafa; line-height: 1.21429em; padding: 10px;\">\n",
       "                    <div class=\"item_left\" style=\"width: 210px; float: left;\">\n",
       "                       <a href='https://www.arcgis.com/home/item.html?id=ceabba4071a64c0ca2420ee3656b37ae' target='_blank'>\n",
       "                        <img src='https://www.arcgis.com/sharing/rest//content/items/ceabba4071a64c0ca2420ee3656b37ae/info/thumbnail/thumbnail1602276550916.png' class=\"itemThumbnail\">\n",
       "                       </a>\n",
       "                    </div>\n",
       "\n",
       "                    <div class=\"item_right\"     style=\"float: none; width: auto; overflow: hidden;\">\n",
       "                        <a href='https://www.arcgis.com/home/item.html?id=ceabba4071a64c0ca2420ee3656b37ae' target='_blank'><b>GRID3 Nigeria - Health Facilities Access Risk Profile per State</b>\n",
       "                        </a>\n",
       "                        <br/>This profile is an index representing risk of limited access to COVID-19 treatment arising from low accessibility to health facilities and low usage of the medical system. Categories: 5 (highest risk) to 1 (lowest risk).<img src='https://www.arcgis.com/home/js/jsapi/esri/css/images/item_type_icons/featureshosted16.png' style=\"vertical-align:middle;\">Feature Layer Collection by oborkovs_GRID\n",
       "                        <br/>Last Modified: March 17, 2021\n",
       "                        <br/>0 comments, 245 views\n",
       "                    </div>\n",
       "                </div>\n",
       "                "
      ],
      "text/plain": [
       "<Item title:\"GRID3 Nigeria - Health Facilities Access Risk Profile per State\" type:Feature Layer Collection owner:oborkovs_GRID>"
      ]
     },
     "metadata": {},
     "output_type": "display_data"
    },
    {
     "data": {
      "text/html": [
       "<div class=\"item_container\" style=\"height: auto; overflow: hidden; border: 1px solid #cfcfcf; border-radius: 2px; background: #f6fafa; line-height: 1.21429em; padding: 10px;\">\n",
       "                    <div class=\"item_left\" style=\"width: 210px; float: left;\">\n",
       "                       <a href='https://www.arcgis.com/home/item.html?id=0a8cbb6e8cdc494585be82029071c2b2' target='_blank'>\n",
       "                        <img src='https://www.arcgis.com/sharing/rest//content/items/0a8cbb6e8cdc494585be82029071c2b2/info/thumbnail/thumbnail1594066294693.png' class=\"itemThumbnail\">\n",
       "                       </a>\n",
       "                    </div>\n",
       "\n",
       "                    <div class=\"item_right\"     style=\"float: none; width: auto; overflow: hidden;\">\n",
       "                        <a href='https://www.arcgis.com/home/item.html?id=0a8cbb6e8cdc494585be82029071c2b2' target='_blank'><b>Health facilities access risk profile in Nigeria by state</b>\n",
       "                        </a>\n",
       "                        <br/>This profile is an index representing risk of limited access to COVID-19 treatment in Nigeria arising from low accessibility to health facilities and low usage of the medical system. Categories: 5 (highest risk) to 1 (lowest risk) by state.<img src='https://www.arcgis.com/home/js/jsapi/esri/css/images/item_type_icons/featureshosted16.png' style=\"vertical-align:middle;\">Feature Layer Collection by ob2243_columbia\n",
       "                        <br/>Last Modified: July 07, 2020\n",
       "                        <br/>0 comments, 2797 views\n",
       "                    </div>\n",
       "                </div>\n",
       "                "
      ],
      "text/plain": [
       "<Item title:\"Health facilities access risk profile in Nigeria by state\" type:Feature Layer Collection owner:ob2243_columbia>"
      ]
     },
     "metadata": {},
     "output_type": "display_data"
    },
    {
     "data": {
      "text/html": [
       "<div class=\"item_container\" style=\"height: auto; overflow: hidden; border: 1px solid #cfcfcf; border-radius: 2px; background: #f6fafa; line-height: 1.21429em; padding: 10px;\">\n",
       "                    <div class=\"item_left\" style=\"width: 210px; float: left;\">\n",
       "                       <a href='https://www.arcgis.com/home/item.html?id=3a21270dbeec44e89cf8b0ef18517183' target='_blank'>\n",
       "                        <img src='https://www.arcgis.com/sharing/rest//content/items/3a21270dbeec44e89cf8b0ef18517183/info/thumbnail/thumbnail1602628089140.png' class=\"itemThumbnail\">\n",
       "                       </a>\n",
       "                    </div>\n",
       "\n",
       "                    <div class=\"item_right\"     style=\"float: none; width: auto; overflow: hidden;\">\n",
       "                        <a href='https://www.arcgis.com/home/item.html?id=3a21270dbeec44e89cf8b0ef18517183' target='_blank'><b>GRID3 Nigeria - Health Facilities Access Risk Profile per Ward</b>\n",
       "                        </a>\n",
       "                        <br/>This profile is an index representing risk of limited access to COVID-19 treatment in Nigeria arising from low accessibility to health facilities and low usage of the medical system. Categories: 5 (highest risk) to 1 (lowest risk) by ward.<img src='https://www.arcgis.com/home/js/jsapi/esri/css/images/item_type_icons/featureshosted16.png' style=\"vertical-align:middle;\">Feature Layer Collection by oborkovs_GRID\n",
       "                        <br/>Last Modified: March 17, 2021\n",
       "                        <br/>0 comments, 246 views\n",
       "                    </div>\n",
       "                </div>\n",
       "                "
      ],
      "text/plain": [
       "<Item title:\"GRID3 Nigeria - Health Facilities Access Risk Profile per Ward\" type:Feature Layer Collection owner:oborkovs_GRID>"
      ]
     },
     "metadata": {},
     "output_type": "display_data"
    },
    {
     "data": {
      "text/html": [
       "<div class=\"item_container\" style=\"height: auto; overflow: hidden; border: 1px solid #cfcfcf; border-radius: 2px; background: #f6fafa; line-height: 1.21429em; padding: 10px;\">\n",
       "                    <div class=\"item_left\" style=\"width: 210px; float: left;\">\n",
       "                       <a href='https://www.arcgis.com/home/item.html?id=f93874395d66496591593210b5eaa28f' target='_blank'>\n",
       "                        <img src='https://www.arcgis.com/sharing/rest//content/items/f93874395d66496591593210b5eaa28f/info/thumbnail/thumbnail1602277874824.png' class=\"itemThumbnail\">\n",
       "                       </a>\n",
       "                    </div>\n",
       "\n",
       "                    <div class=\"item_right\"     style=\"float: none; width: auto; overflow: hidden;\">\n",
       "                        <a href='https://www.arcgis.com/home/item.html?id=f93874395d66496591593210b5eaa28f' target='_blank'><b>GRID3 Nigeria - Exposure Risk Profile per State</b>\n",
       "                        </a>\n",
       "                        <br/>The \"GRID3 Nigeria Exposure Risk Profile: Gridded Estimates of Population Vulnerability to COVID-19 per State\" profile is an index representing risk of exposure to COVID-19 in Nigeria per State. Categories: 5 (highest risk) to 1 (lowest risk).<img src='https://www.arcgis.com/home/js/jsapi/esri/css/images/item_type_icons/featureshosted16.png' style=\"vertical-align:middle;\">Feature Layer Collection by oborkovs_GRID\n",
       "                        <br/>Last Modified: March 17, 2021\n",
       "                        <br/>0 comments, 395 views\n",
       "                    </div>\n",
       "                </div>\n",
       "                "
      ],
      "text/plain": [
       "<Item title:\"GRID3 Nigeria - Exposure Risk Profile per State\" type:Feature Layer Collection owner:oborkovs_GRID>"
      ]
     },
     "metadata": {},
     "output_type": "display_data"
    },
    {
     "data": {
      "text/html": [
       "<div class=\"item_container\" style=\"height: auto; overflow: hidden; border: 1px solid #cfcfcf; border-radius: 2px; background: #f6fafa; line-height: 1.21429em; padding: 10px;\">\n",
       "                    <div class=\"item_left\" style=\"width: 210px; float: left;\">\n",
       "                       <a href='https://www.arcgis.com/home/item.html?id=62b7dec090ca4336bb078f04f1eff72f' target='_blank'>\n",
       "                        <img src='https://www.arcgis.com/sharing/rest//content/items/62b7dec090ca4336bb078f04f1eff72f/info/thumbnail/thumbnail1602276831081.png' class=\"itemThumbnail\">\n",
       "                       </a>\n",
       "                    </div>\n",
       "\n",
       "                    <div class=\"item_right\"     style=\"float: none; width: auto; overflow: hidden;\">\n",
       "                        <a href='https://www.arcgis.com/home/item.html?id=62b7dec090ca4336bb078f04f1eff72f' target='_blank'><b>GRID3 Nigeria - Communications Access Risk Profile per State</b>\n",
       "                        </a>\n",
       "                        <br/>The \"GRID3 Nigeria Communications Access Risk Profile:  Gridded Estimates of Population Vulnerability to COVID-19 per State\" profile identifies adult populations with limited access to communications media in Nigeria per state.<img src='https://www.arcgis.com/home/js/jsapi/esri/css/images/item_type_icons/featureshosted16.png' style=\"vertical-align:middle;\">Feature Layer Collection by oborkovs_GRID\n",
       "                        <br/>Last Modified: March 17, 2021\n",
       "                        <br/>0 comments, 46 views\n",
       "                    </div>\n",
       "                </div>\n",
       "                "
      ],
      "text/plain": [
       "<Item title:\"GRID3 Nigeria - Communications Access Risk Profile per State\" type:Feature Layer Collection owner:oborkovs_GRID>"
      ]
     },
     "metadata": {},
     "output_type": "display_data"
    }
   ],
   "source": [
    "from IPython.display import display\n",
    "for item in display_content:\n",
    "    display(item)\n"
   ]
  },
  {
   "cell_type": "markdown",
   "metadata": {},
   "source": [
    "### Adding Content to Map and Style to the Map\n",
    "* Traverse each of the display layer\n",
    "* Create a Map and add content using the feature layer to the map\n",
    "* Display each map with diffrent features layers\n",
    "\n",
    "Layers are the contents of a map. They include a wide range of information about people, the earth, life, and so on, and are composed of imagery, tiles, features, and more.\n"
   ]
  },
  {
   "cell_type": "code",
   "execution_count": 75,
   "metadata": {},
   "outputs": [
    {
     "data": {
      "application/vnd.jupyter.widget-view+json": {
       "model_id": "c955171966bd4aedab63e33e7f0eb8a0",
       "version_major": 2,
       "version_minor": 0
      },
      "text/plain": [
       "MapView(layout=Layout(height='400px', width='100%'))"
      ]
     },
     "metadata": {},
     "output_type": "display_data"
    },
    {
     "data": {
      "text/html": [
       "<div class=\"map-static-img-preview-4b1d49ca-9f59-405f-8386-e620a64f46e4\"><img src=\"\"></img></div>"
      ],
      "text/plain": [
       "<IPython.core.display.HTML object>"
      ]
     },
     "metadata": {},
     "output_type": "display_data"
    },
    {
     "name": "stdout",
     "output_type": "stream",
     "text": [
      "None\n"
     ]
    },
    {
     "data": {
      "application/vnd.jupyter.widget-view+json": {
       "model_id": "cca454308f7045dbaec595810340b5bf",
       "version_major": 2,
       "version_minor": 0
      },
      "text/plain": [
       "MapView(layout=Layout(height='400px', width='100%'))"
      ]
     },
     "metadata": {},
     "output_type": "display_data"
    },
    {
     "data": {
      "text/html": [
       "<div class=\"map-static-img-preview-c084b3c0-3668-4f59-a50b-3188df7d52a0\"><img src=\"\"></img></div>"
      ],
      "text/plain": [
       "<IPython.core.display.HTML object>"
      ]
     },
     "metadata": {},
     "output_type": "display_data"
    },
    {
     "name": "stdout",
     "output_type": "stream",
     "text": [
      "None\n"
     ]
    },
    {
     "data": {
      "application/vnd.jupyter.widget-view+json": {
       "model_id": "2b60d0db73314b2a99429abcd9b6e63e",
       "version_major": 2,
       "version_minor": 0
      },
      "text/plain": [
       "MapView(layout=Layout(height='400px', width='100%'))"
      ]
     },
     "metadata": {},
     "output_type": "display_data"
    },
    {
     "data": {
      "text/html": [
       "<div class=\"map-static-img-preview-90913380-48bd-4889-8d5f-d2388df36710\"><img src=\"\"></img></div>"
      ],
      "text/plain": [
       "<IPython.core.display.HTML object>"
      ]
     },
     "metadata": {},
     "output_type": "display_data"
    },
    {
     "name": "stdout",
     "output_type": "stream",
     "text": [
      "None\n"
     ]
    },
    {
     "data": {
      "application/vnd.jupyter.widget-view+json": {
       "model_id": "2979c43e9284429eb7d07afee6c94ba4",
       "version_major": 2,
       "version_minor": 0
      },
      "text/plain": [
       "MapView(layout=Layout(height='400px', width='100%'))"
      ]
     },
     "metadata": {},
     "output_type": "display_data"
    },
    {
     "data": {
      "text/html": [
       "<div class=\"map-static-img-preview-c80bc1ca-e3a0-434a-a507-1717a4bbff22\"><img src=\"\"></img></div>"
      ],
      "text/plain": [
       "<IPython.core.display.HTML object>"
      ]
     },
     "metadata": {},
     "output_type": "display_data"
    },
    {
     "name": "stdout",
     "output_type": "stream",
     "text": [
      "None\n"
     ]
    },
    {
     "data": {
      "application/vnd.jupyter.widget-view+json": {
       "model_id": "4b3c2855b5bc41689cd4743a8e802246",
       "version_major": 2,
       "version_minor": 0
      },
      "text/plain": [
       "MapView(layout=Layout(height='400px', width='100%'))"
      ]
     },
     "metadata": {},
     "output_type": "display_data"
    },
    {
     "data": {
      "text/html": [
       "<div class=\"map-static-img-preview-6a583a0b-6165-4e0e-ab99-af302e6a39e1\"><img src=\"\"></img></div>"
      ],
      "text/plain": [
       "<IPython.core.display.HTML object>"
      ]
     },
     "metadata": {},
     "output_type": "display_data"
    },
    {
     "name": "stdout",
     "output_type": "stream",
     "text": [
      "None\n"
     ]
    },
    {
     "data": {
      "application/vnd.jupyter.widget-view+json": {
       "model_id": "a3993dd8b2894bfd93e0cda40ceb7e13",
       "version_major": 2,
       "version_minor": 0
      },
      "text/plain": [
       "MapView(layout=Layout(height='400px', width='100%'))"
      ]
     },
     "metadata": {},
     "output_type": "display_data"
    },
    {
     "data": {
      "text/html": [
       "<div class=\"map-static-img-preview-aeee4208-060b-44a9-ac7a-2d523df00211\"><img src=\"\"></img></div>"
      ],
      "text/plain": [
       "<IPython.core.display.HTML object>"
      ]
     },
     "metadata": {},
     "output_type": "display_data"
    },
    {
     "name": "stdout",
     "output_type": "stream",
     "text": [
      "None\n"
     ]
    },
    {
     "data": {
      "application/vnd.jupyter.widget-view+json": {
       "model_id": "e055d71a02d94f5497faa818803a476a",
       "version_major": 2,
       "version_minor": 0
      },
      "text/plain": [
       "MapView(layout=Layout(height='400px', width='100%'))"
      ]
     },
     "metadata": {},
     "output_type": "display_data"
    },
    {
     "data": {
      "text/html": [
       "<div class=\"map-static-img-preview-b92b72cc-4e6d-48ab-b4ee-63cd457e250f\"><img src=\"\"></img></div>"
      ],
      "text/plain": [
       "<IPython.core.display.HTML object>"
      ]
     },
     "metadata": {},
     "output_type": "display_data"
    },
    {
     "name": "stdout",
     "output_type": "stream",
     "text": [
      "None\n"
     ]
    },
    {
     "data": {
      "application/vnd.jupyter.widget-view+json": {
       "model_id": "a68cb9e161e540ef97edf19a23c7c1ee",
       "version_major": 2,
       "version_minor": 0
      },
      "text/plain": [
       "MapView(layout=Layout(height='400px', width='100%'))"
      ]
     },
     "metadata": {},
     "output_type": "display_data"
    },
    {
     "data": {
      "text/html": [
       "<div class=\"map-static-img-preview-a3ead1fc-610e-4b03-b096-7acf492444ac\"><img src=\"\"></img></div>"
      ],
      "text/plain": [
       "<IPython.core.display.HTML object>"
      ]
     },
     "metadata": {},
     "output_type": "display_data"
    },
    {
     "name": "stdout",
     "output_type": "stream",
     "text": [
      "None\n"
     ]
    },
    {
     "data": {
      "application/vnd.jupyter.widget-view+json": {
       "model_id": "36554222a705453b9ddd0254dcaf8de6",
       "version_major": 2,
       "version_minor": 0
      },
      "text/plain": [
       "MapView(layout=Layout(height='400px', width='100%'))"
      ]
     },
     "metadata": {},
     "output_type": "display_data"
    },
    {
     "data": {
      "text/html": [
       "<div class=\"map-static-img-preview-4cd48344-ea5f-4c6b-bc3b-ef958f47a30f\"><img src=\"\"></img></div>"
      ],
      "text/plain": [
       "<IPython.core.display.HTML object>"
      ]
     },
     "metadata": {},
     "output_type": "display_data"
    },
    {
     "name": "stdout",
     "output_type": "stream",
     "text": [
      "None\n"
     ]
    },
    {
     "data": {
      "application/vnd.jupyter.widget-view+json": {
       "model_id": "8963a5307cbd46c393f2d96efbc072c8",
       "version_major": 2,
       "version_minor": 0
      },
      "text/plain": [
       "MapView(layout=Layout(height='400px', width='100%'))"
      ]
     },
     "metadata": {},
     "output_type": "display_data"
    },
    {
     "data": {
      "text/html": [
       "<div class=\"map-static-img-preview-7cb3938f-122e-492a-b8de-c2fca4645416\"><img src=\"\"></img></div>"
      ],
      "text/plain": [
       "<IPython.core.display.HTML object>"
      ]
     },
     "metadata": {},
     "output_type": "display_data"
    },
    {
     "name": "stdout",
     "output_type": "stream",
     "text": [
      "None\n"
     ]
    }
   ],
   "source": [
    "\n",
    "for layer in display_content:\n",
    "    map4 =gis.map(\"Africa\")\n",
    "    print(display(map4))\n",
    "    map4.center =[9.077751, 8.6774567]\n",
    "    map4.zoom = 4\n",
    "    map4.basemap = 'dark-gray-vector'\n",
    "    map4.add_layer(layer)\n",
    "    \n"
   ]
  },
  {
   "cell_type": "markdown",
   "metadata": {},
   "source": [
    "# Github Repo"
   ]
  },
  {
   "cell_type": "code",
   "execution_count": null,
   "metadata": {},
   "outputs": [],
   "source": []
  }
 ],
 "metadata": {
  "kernelspec": {
   "display_name": "Python 3",
   "language": "python",
   "name": "python3"
  },
  "language_info": {
   "codemirror_mode": {
    "name": "ipython",
    "version": 3
   },
   "file_extension": ".py",
   "mimetype": "text/x-python",
   "name": "python",
   "nbconvert_exporter": "python",
   "pygments_lexer": "ipython3",
   "version": "3.7.7"
  }
 },
 "nbformat": 4,
 "nbformat_minor": 4
}
