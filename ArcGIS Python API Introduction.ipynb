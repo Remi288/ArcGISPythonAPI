{
 "cells": [
  {
   "cell_type": "markdown",
   "metadata": {},
   "source": [
    "# ArcGIS Python API using Nigeria Covid-19 content  as the feature layer to the map"
   ]
  },
  {
   "cell_type": "markdown",
   "metadata": {},
   "source": [
    "## Installing ArcGIS API for Python"
   ]
  },
  {
   "cell_type": "markdown",
   "metadata": {},
   "source": [
    "Following the steps below, you will be able to install the API on your machine and get to work with this Rich Python Library for Spatial Data Science"
   ]
  },
  {
   "cell_type": "markdown",
   "metadata": {},
   "source": [
    "* Download Anaconda or MiniConda\n",
    "* Jupyter Notebooks"
   ]
  },
  {
   "cell_type": "markdown",
   "metadata": {},
   "source": [
    "## Using the Documentation on ArcGIS on installation via Conda\n",
    "* conda install -c esri arcgis\n",
    "\n",
    "## Understanding Conda \n",
    "You can add a package to the currently active environment at the terminal with the following command:\n",
    "* conda install <package_name>\n",
    "### You can also specify specific environments and channels with the --name and --channel flags:\n",
    "* conda install --name <environment_name> --channel <channel_name> <package_name>\n",
    "\n",
    "### Create an environment:\n",
    "* conda create --name gis-enviro - name your environmnent anything you want\n",
    "\n",
    "### Install the ArcGIS API for Python¶¶\n",
    "* conda install --name gis-enviro -c esri arcgis\n",
    "\n",
    "\n",
    "\n"
   ]
  },
  {
   "cell_type": "markdown",
   "metadata": {},
   "source": [
    "### Creating Maps & Adding Layers\n",
    "Importing the Python Libraries into our project.\n",
    "\n",
    "* call the ArcGIS library\n",
    "* import the GIS capabilities\n",
    "* declare a variable and assign the GIS Methods to it\n"
   ]
  },
  {
   "cell_type": "markdown",
   "metadata": {},
   "source": [
    "I will be using **getpass()** - So basically I need the getpass() function to be able to store my password for my ArcGIS Online account and send that as an aunthentication request. The reason why I called this function I don't want anyone reading this to be able to see my password while I record the video tutorial or while I print this document. Its also a great feature for security purposes which keeps all sensitive information secure."
   ]
  },
  {
   "cell_type": "markdown",
   "metadata": {},
   "source": [
    "from arcgis.gis import GIS\n",
    "from getpass import getpass"
   ]
  },
  {
   "cell_type": "code",
   "execution_count": 12,
   "metadata": {},
   "outputs": [],
   "source": [
    "from arcgis.gis import GIS"
   ]
  },
  {
   "cell_type": "code",
   "execution_count": 13,
   "metadata": {},
   "outputs": [],
   "source": [
    "gis = GIS()"
   ]
  },
  {
   "cell_type": "markdown",
   "metadata": {},
   "source": [
    "# Authentication (Login In) to the ArcGIS Online Account\n"
   ]
  },
  {
   "cell_type": "markdown",
   "metadata": {},
   "source": [
    "For us to get permission (be allowed) to interact with the platform, we need to be authenticated to perform the operations hence that requires that we are logged in.\n",
    "\n",
    "So, I've created a password variable which is going to store the input from the getpass() function.\n",
    "\n",
    "The variable gis is the one which is going to be used to authenticate the user based on the following parameters:\n",
    "\n",
    "* the site URL in this case which is the URL for the ArcGIS Online Platform\n",
    "* the username of the person and\n",
    "* the password of the user\n",
    "All this is done via the GIS() method and the parameters to be passed are the one's I have just mentioned above."
   ]
  },
  {
   "cell_type": "markdown",
   "metadata": {},
   "source": [
    "password = getpass()\n",
    "gis = GIS(\"http://www.arcgis.com\", \"remi288\", password)"
   ]
  },
  {
   "cell_type": "markdown",
   "metadata": {},
   "source": [
    "#### We just imported the ArcGIS API for Python by calling it from the arcgis library for the Python language.\n",
    "\n",
    "Let's create a simple map using a named location\n",
    "create a variable named map or any other name you might give it\n",
    "call the variable in order to display an out"
   ]
  },
  {
   "cell_type": "code",
   "execution_count": 14,
   "metadata": {},
   "outputs": [
    {
     "data": {
      "application/vnd.jupyter.widget-view+json": {
       "model_id": "f7682e6f897a4b8480eeaea8fb33a35b",
       "version_major": 2,
       "version_minor": 0
      },
      "text/plain": [
       "MapView(layout=Layout(height='400px', width='100%'))"
      ]
     },
     "metadata": {},
     "output_type": "display_data"
    },
    {
     "data": {
      "text/html": [
       "<div class=\"map-static-img-preview-e7386be2-62f6-430c-a95c-4c400877fce8\"><img src=\"\"></img></div>"
      ],
      "text/plain": [
       "<IPython.core.display.HTML object>"
      ]
     },
     "metadata": {},
     "output_type": "display_data"
    }
   ],
   "source": [
    "map = gis.map(\"Africa\")\n",
    "map"
   ]
  },
  {
   "cell_type": "markdown",
   "metadata": {},
   "source": [
    "#### Styling The Map\n",
    "We can edit attributes like Centering and Zooming among others which we will touch on in future tutorials\n",
    "\n"
   ]
  },
  {
   "cell_type": "code",
   "execution_count": 15,
   "metadata": {},
   "outputs": [],
   "source": [
    "map.center = [9.077751, 8.6774567]\n",
    "map.zoom = 7"
   ]
  },
  {
   "cell_type": "markdown",
   "metadata": {},
   "source": [
    "### Get the JSON feedback for all available Basemaps to use within the map display\n",
    "\n",
    "A base map is a layer with geographic information that serves as a background. A base map provides context for additional layers that are overlaid on top of the base map. Base maps usually provide location references for features that do not change often like boundaries, rivers, lakes, roads, and highways."
   ]
  },
  {
   "cell_type": "code",
   "execution_count": 16,
   "metadata": {},
   "outputs": [
    {
     "data": {
      "text/plain": [
       "['dark-gray',\n",
       " 'dark-gray-vector',\n",
       " 'gray',\n",
       " 'gray-vector',\n",
       " 'hybrid',\n",
       " 'national-geographic',\n",
       " 'oceans',\n",
       " 'osm',\n",
       " 'satellite',\n",
       " 'streets',\n",
       " 'streets-navigation-vector',\n",
       " 'streets-night-vector',\n",
       " 'streets-relief-vector',\n",
       " 'streets-vector',\n",
       " 'terrain',\n",
       " 'topo',\n",
       " 'topo-vector']"
      ]
     },
     "execution_count": 16,
     "metadata": {},
     "output_type": "execute_result"
    }
   ],
   "source": [
    "map.basemaps\n"
   ]
  },
  {
   "cell_type": "code",
   "execution_count": 17,
   "metadata": {},
   "outputs": [],
   "source": [
    "map.basemap = 'dark-gray-vector'\n"
   ]
  },
  {
   "cell_type": "markdown",
   "metadata": {},
   "source": [
    "### Searching and Retrieving OpenData\n",
    "* create a variable to store results\n",
    "* define the search terms\n",
    "* define the item types you want to search\n",
    "* if you don't want to flood your screen with results, define the maximum items to display\n",
    "* call the variable to display the results"
   ]
  },
  {
   "cell_type": "code",
   "execution_count": 19,
   "metadata": {},
   "outputs": [
    {
     "data": {
      "text/plain": [
       "[<Item title:\"NGA_State_Incidents_09_04_2020\" type:Feature Layer Collection owner:VAISNL>,\n",
       " <Item title:\"NGA_State_Incidents_NCDC_Join\" type:Feature Layer Collection owner:VAISNL>,\n",
       " <Item title:\"GRID3 NGA - Co-morbidities Risk Profile per Ward - copy\" type:Feature Layer Collection owner:Jannah0202>,\n",
       " <Item title:\"Nigeria_Cases\" type:Feature Layer Collection owner:anwuli.okwuashi_SLUSTL>,\n",
       " <Item title:\"GRID3 NGA - Communications Access Risk Profile per State\" type:Feature Layer Collection owner:oborkovs_GRID>,\n",
       " <Item title:\"Health facilities access risk profile in Nigeria by state\" type:Feature Layer Collection owner:ob2243_columbia>,\n",
       " <Item title:\"Pretesting Nigeria COVID-19 Vaccine KAPB_stakeholder\" type:Feature Layer Collection owner:solomonj@who.int_WHO>,\n",
       " <Item title:\"GRID3 NGA - Health Facilities Access Risk Profile per State\" type:Feature Layer Collection owner:oborkovs_GRID>,\n",
       " <Item title:\"GRID3 NGA - Health Facilities Access Risk Profile per Ward\" type:Feature Layer Collection owner:oborkovs_GRID>,\n",
       " <Item title:\"GRID3 NGA - Exposure Risk Profile per State\" type:Feature Layer Collection owner:oborkovs_GRID>]"
      ]
     },
     "execution_count": 19,
     "metadata": {},
     "output_type": "execute_result"
    }
   ],
   "source": [
    "display_content = gis.content.search(\"Nigeria COVID-19\", item_type=\"Feature Layer\", max_items=10)\n",
    "display_content"
   ]
  },
  {
   "cell_type": "code",
   "execution_count": 20,
   "metadata": {},
   "outputs": [
    {
     "data": {
      "text/html": [
       "<div class=\"item_container\" style=\"height: auto; overflow: hidden; border: 1px solid #cfcfcf; border-radius: 2px; background: #f6fafa; line-height: 1.21429em; padding: 10px;\">\n",
       "                    <div class=\"item_left\" style=\"width: 210px; float: left;\">\n",
       "                       <a href='https://www.arcgis.com/home/item.html?id=1effc7a8936f4c639202c72807fb2ee5' target='_blank'>\n",
       "                        <img src='http://static.arcgis.com/images/desktopapp.png' class=\"itemThumbnail\">\n",
       "                       </a>\n",
       "                    </div>\n",
       "\n",
       "                    <div class=\"item_right\"     style=\"float: none; width: auto; overflow: hidden;\">\n",
       "                        <a href='https://www.arcgis.com/home/item.html?id=1effc7a8936f4c639202c72807fb2ee5' target='_blank'><b>NGA_State_Incidents_09_04_2020</b>\n",
       "                        </a>\n",
       "                        <br/><img src='https://www.arcgis.com/home/js/jsapi/esri/css/images/item_type_icons/featureshosted16.png' style=\"vertical-align:middle;\">Feature Layer Collection by VAISNL\n",
       "                        <br/>Last Modified: April 09, 2020\n",
       "                        <br/>0 comments, 93 views\n",
       "                    </div>\n",
       "                </div>\n",
       "                "
      ],
      "text/plain": [
       "<Item title:\"NGA_State_Incidents_09_04_2020\" type:Feature Layer Collection owner:VAISNL>"
      ]
     },
     "metadata": {},
     "output_type": "display_data"
    },
    {
     "data": {
      "text/html": [
       "<div class=\"item_container\" style=\"height: auto; overflow: hidden; border: 1px solid #cfcfcf; border-radius: 2px; background: #f6fafa; line-height: 1.21429em; padding: 10px;\">\n",
       "                    <div class=\"item_left\" style=\"width: 210px; float: left;\">\n",
       "                       <a href='https://www.arcgis.com/home/item.html?id=d312fc3000104c04a8deed586acf387c' target='_blank'>\n",
       "                        <img src='https://www.arcgis.com/sharing/rest//content/items/d312fc3000104c04a8deed586acf387c/info/thumbnail/ago_downloaded.png' class=\"itemThumbnail\">\n",
       "                       </a>\n",
       "                    </div>\n",
       "\n",
       "                    <div class=\"item_right\"     style=\"float: none; width: auto; overflow: hidden;\">\n",
       "                        <a href='https://www.arcgis.com/home/item.html?id=d312fc3000104c04a8deed586acf387c' target='_blank'><b>NGA_State_Incidents_NCDC_Join</b>\n",
       "                        </a>\n",
       "                        <br/><img src='https://www.arcgis.com/home/js/jsapi/esri/css/images/item_type_icons/featureshosted16.png' style=\"vertical-align:middle;\">Feature Layer Collection by VAISNL\n",
       "                        <br/>Last Modified: April 08, 2020\n",
       "                        <br/>0 comments, 214 views\n",
       "                    </div>\n",
       "                </div>\n",
       "                "
      ],
      "text/plain": [
       "<Item title:\"NGA_State_Incidents_NCDC_Join\" type:Feature Layer Collection owner:VAISNL>"
      ]
     },
     "metadata": {},
     "output_type": "display_data"
    },
    {
     "data": {
      "text/html": [
       "<div class=\"item_container\" style=\"height: auto; overflow: hidden; border: 1px solid #cfcfcf; border-radius: 2px; background: #f6fafa; line-height: 1.21429em; padding: 10px;\">\n",
       "                    <div class=\"item_left\" style=\"width: 210px; float: left;\">\n",
       "                       <a href='https://www.arcgis.com/home/item.html?id=76848c2e2ff846edac0253f54a52a853' target='_blank'>\n",
       "                        <img src='https://www.arcgis.com/sharing/rest//content/items/76848c2e2ff846edac0253f54a52a853/info/thumbnail/ago_downloaded.png' class=\"itemThumbnail\">\n",
       "                       </a>\n",
       "                    </div>\n",
       "\n",
       "                    <div class=\"item_right\"     style=\"float: none; width: auto; overflow: hidden;\">\n",
       "                        <a href='https://www.arcgis.com/home/item.html?id=76848c2e2ff846edac0253f54a52a853' target='_blank'><b>GRID3 NGA - Co-morbidities Risk Profile per Ward - copy</b>\n",
       "                        </a>\n",
       "                        <br/>This profile identifies population that may be at-risk of severe COVID-19 infection or hospitalization due to co-morbidities in Nigeria per ward.<img src='https://www.arcgis.com/home/js/jsapi/esri/css/images/item_type_icons/featureshosted16.png' style=\"vertical-align:middle;\">Feature Layer Collection by Jannah0202\n",
       "                        <br/>Last Modified: December 11, 2020\n",
       "                        <br/>0 comments, 2 views\n",
       "                    </div>\n",
       "                </div>\n",
       "                "
      ],
      "text/plain": [
       "<Item title:\"GRID3 NGA - Co-morbidities Risk Profile per Ward - copy\" type:Feature Layer Collection owner:Jannah0202>"
      ]
     },
     "metadata": {},
     "output_type": "display_data"
    },
    {
     "data": {
      "text/html": [
       "<div class=\"item_container\" style=\"height: auto; overflow: hidden; border: 1px solid #cfcfcf; border-radius: 2px; background: #f6fafa; line-height: 1.21429em; padding: 10px;\">\n",
       "                    <div class=\"item_left\" style=\"width: 210px; float: left;\">\n",
       "                       <a href='https://www.arcgis.com/home/item.html?id=d627f2d5b47e40de9088a3ceec44a4eb' target='_blank'>\n",
       "                        <img src='https://www.arcgis.com/sharing/rest//content/items/d627f2d5b47e40de9088a3ceec44a4eb/info/thumbnail/ago_downloaded.png' class=\"itemThumbnail\">\n",
       "                       </a>\n",
       "                    </div>\n",
       "\n",
       "                    <div class=\"item_right\"     style=\"float: none; width: auto; overflow: hidden;\">\n",
       "                        <a href='https://www.arcgis.com/home/item.html?id=d627f2d5b47e40de9088a3ceec44a4eb' target='_blank'><b>Nigeria_Cases</b>\n",
       "                        </a>\n",
       "                        <br/><img src='https://www.arcgis.com/home/js/jsapi/esri/css/images/item_type_icons/featureshosted16.png' style=\"vertical-align:middle;\">Feature Layer Collection by anwuli.okwuashi_SLUSTL\n",
       "                        <br/>Last Modified: July 19, 2020\n",
       "                        <br/>0 comments, 10 views\n",
       "                    </div>\n",
       "                </div>\n",
       "                "
      ],
      "text/plain": [
       "<Item title:\"Nigeria_Cases\" type:Feature Layer Collection owner:anwuli.okwuashi_SLUSTL>"
      ]
     },
     "metadata": {},
     "output_type": "display_data"
    },
    {
     "data": {
      "text/html": [
       "<div class=\"item_container\" style=\"height: auto; overflow: hidden; border: 1px solid #cfcfcf; border-radius: 2px; background: #f6fafa; line-height: 1.21429em; padding: 10px;\">\n",
       "                    <div class=\"item_left\" style=\"width: 210px; float: left;\">\n",
       "                       <a href='https://www.arcgis.com/home/item.html?id=62b7dec090ca4336bb078f04f1eff72f' target='_blank'>\n",
       "                        <img src='https://www.arcgis.com/sharing/rest//content/items/62b7dec090ca4336bb078f04f1eff72f/info/thumbnail/thumbnail1602276831081.png' class=\"itemThumbnail\">\n",
       "                       </a>\n",
       "                    </div>\n",
       "\n",
       "                    <div class=\"item_right\"     style=\"float: none; width: auto; overflow: hidden;\">\n",
       "                        <a href='https://www.arcgis.com/home/item.html?id=62b7dec090ca4336bb078f04f1eff72f' target='_blank'><b>GRID3 NGA - Communications Access Risk Profile per State</b>\n",
       "                        </a>\n",
       "                        <br/>The \"GRID3 Nigeria Communications Access Risk Profile:  Gridded Estimates of Population Vulnerability to COVID-19 per State\" profile identifies adult populations with limited access to communications media in Nigeria per state.<img src='https://www.arcgis.com/home/js/jsapi/esri/css/images/item_type_icons/featureshosted16.png' style=\"vertical-align:middle;\">Feature Layer Collection by oborkovs_GRID\n",
       "                        <br/>Last Modified: December 13, 2020\n",
       "                        <br/>0 comments, 44 views\n",
       "                    </div>\n",
       "                </div>\n",
       "                "
      ],
      "text/plain": [
       "<Item title:\"GRID3 NGA - Communications Access Risk Profile per State\" type:Feature Layer Collection owner:oborkovs_GRID>"
      ]
     },
     "metadata": {},
     "output_type": "display_data"
    },
    {
     "data": {
      "text/html": [
       "<div class=\"item_container\" style=\"height: auto; overflow: hidden; border: 1px solid #cfcfcf; border-radius: 2px; background: #f6fafa; line-height: 1.21429em; padding: 10px;\">\n",
       "                    <div class=\"item_left\" style=\"width: 210px; float: left;\">\n",
       "                       <a href='https://www.arcgis.com/home/item.html?id=0a8cbb6e8cdc494585be82029071c2b2' target='_blank'>\n",
       "                        <img src='https://www.arcgis.com/sharing/rest//content/items/0a8cbb6e8cdc494585be82029071c2b2/info/thumbnail/thumbnail1594066294693.png' class=\"itemThumbnail\">\n",
       "                       </a>\n",
       "                    </div>\n",
       "\n",
       "                    <div class=\"item_right\"     style=\"float: none; width: auto; overflow: hidden;\">\n",
       "                        <a href='https://www.arcgis.com/home/item.html?id=0a8cbb6e8cdc494585be82029071c2b2' target='_blank'><b>Health facilities access risk profile in Nigeria by state</b>\n",
       "                        </a>\n",
       "                        <br/>This profile is an index representing risk of limited access to COVID-19 treatment in Nigeria arising from low accessibility to health facilities and low usage of the medical system. Categories: 5 (highest risk) to 1 (lowest risk) by state.<img src='https://www.arcgis.com/home/js/jsapi/esri/css/images/item_type_icons/featureshosted16.png' style=\"vertical-align:middle;\">Feature Layer Collection by ob2243_columbia\n",
       "                        <br/>Last Modified: July 07, 2020\n",
       "                        <br/>0 comments, 2795 views\n",
       "                    </div>\n",
       "                </div>\n",
       "                "
      ],
      "text/plain": [
       "<Item title:\"Health facilities access risk profile in Nigeria by state\" type:Feature Layer Collection owner:ob2243_columbia>"
      ]
     },
     "metadata": {},
     "output_type": "display_data"
    },
    {
     "data": {
      "text/html": [
       "<div class=\"item_container\" style=\"height: auto; overflow: hidden; border: 1px solid #cfcfcf; border-radius: 2px; background: #f6fafa; line-height: 1.21429em; padding: 10px;\">\n",
       "                    <div class=\"item_left\" style=\"width: 210px; float: left;\">\n",
       "                       <a href='https://www.arcgis.com/home/item.html?id=dfa6fb49d34645e6b35e91bb230f5bb1' target='_blank'>\n",
       "                        <img src='https://www.arcgis.com/sharing/rest//content/items/dfa6fb49d34645e6b35e91bb230f5bb1/info/thumbnail/ago_downloaded.png' class=\"itemThumbnail\">\n",
       "                       </a>\n",
       "                    </div>\n",
       "\n",
       "                    <div class=\"item_right\"     style=\"float: none; width: auto; overflow: hidden;\">\n",
       "                        <a href='https://www.arcgis.com/home/item.html?id=dfa6fb49d34645e6b35e91bb230f5bb1' target='_blank'><b>Pretesting Nigeria COVID-19 Vaccine KAPB_stakeholder</b>\n",
       "                        </a>\n",
       "                        <br/><img src='https://www.arcgis.com/home/js/jsapi/esri/css/images/item_type_icons/featureshosted16.png' style=\"vertical-align:middle;\">Feature Layer Collection by solomonj@who.int_WHO\n",
       "                        <br/>Last Modified: December 02, 2020\n",
       "                        <br/>0 comments, 70 views\n",
       "                    </div>\n",
       "                </div>\n",
       "                "
      ],
      "text/plain": [
       "<Item title:\"Pretesting Nigeria COVID-19 Vaccine KAPB_stakeholder\" type:Feature Layer Collection owner:solomonj@who.int_WHO>"
      ]
     },
     "metadata": {},
     "output_type": "display_data"
    },
    {
     "data": {
      "text/html": [
       "<div class=\"item_container\" style=\"height: auto; overflow: hidden; border: 1px solid #cfcfcf; border-radius: 2px; background: #f6fafa; line-height: 1.21429em; padding: 10px;\">\n",
       "                    <div class=\"item_left\" style=\"width: 210px; float: left;\">\n",
       "                       <a href='https://www.arcgis.com/home/item.html?id=ceabba4071a64c0ca2420ee3656b37ae' target='_blank'>\n",
       "                        <img src='https://www.arcgis.com/sharing/rest//content/items/ceabba4071a64c0ca2420ee3656b37ae/info/thumbnail/thumbnail1602276550916.png' class=\"itemThumbnail\">\n",
       "                       </a>\n",
       "                    </div>\n",
       "\n",
       "                    <div class=\"item_right\"     style=\"float: none; width: auto; overflow: hidden;\">\n",
       "                        <a href='https://www.arcgis.com/home/item.html?id=ceabba4071a64c0ca2420ee3656b37ae' target='_blank'><b>GRID3 NGA - Health Facilities Access Risk Profile per State</b>\n",
       "                        </a>\n",
       "                        <br/>This profile is an index representing risk of limited access to COVID-19 treatment arising from low accessibility to health facilities and low usage of the medical system. Categories: 5 (highest risk) to 1 (lowest risk).<img src='https://www.arcgis.com/home/js/jsapi/esri/css/images/item_type_icons/featureshosted16.png' style=\"vertical-align:middle;\">Feature Layer Collection by oborkovs_GRID\n",
       "                        <br/>Last Modified: December 13, 2020\n",
       "                        <br/>0 comments, 244 views\n",
       "                    </div>\n",
       "                </div>\n",
       "                "
      ],
      "text/plain": [
       "<Item title:\"GRID3 NGA - Health Facilities Access Risk Profile per State\" type:Feature Layer Collection owner:oborkovs_GRID>"
      ]
     },
     "metadata": {},
     "output_type": "display_data"
    },
    {
     "data": {
      "text/html": [
       "<div class=\"item_container\" style=\"height: auto; overflow: hidden; border: 1px solid #cfcfcf; border-radius: 2px; background: #f6fafa; line-height: 1.21429em; padding: 10px;\">\n",
       "                    <div class=\"item_left\" style=\"width: 210px; float: left;\">\n",
       "                       <a href='https://www.arcgis.com/home/item.html?id=3a21270dbeec44e89cf8b0ef18517183' target='_blank'>\n",
       "                        <img src='https://www.arcgis.com/sharing/rest//content/items/3a21270dbeec44e89cf8b0ef18517183/info/thumbnail/thumbnail1602628089140.png' class=\"itemThumbnail\">\n",
       "                       </a>\n",
       "                    </div>\n",
       "\n",
       "                    <div class=\"item_right\"     style=\"float: none; width: auto; overflow: hidden;\">\n",
       "                        <a href='https://www.arcgis.com/home/item.html?id=3a21270dbeec44e89cf8b0ef18517183' target='_blank'><b>GRID3 NGA - Health Facilities Access Risk Profile per Ward</b>\n",
       "                        </a>\n",
       "                        <br/>This profile is an index representing risk of limited access to COVID-19 treatment in Nigeria arising from low accessibility to health facilities and low usage of the medical system. Categories: 5 (highest risk) to 1 (lowest risk) by ward.<img src='https://www.arcgis.com/home/js/jsapi/esri/css/images/item_type_icons/featureshosted16.png' style=\"vertical-align:middle;\">Feature Layer Collection by oborkovs_GRID\n",
       "                        <br/>Last Modified: December 13, 2020\n",
       "                        <br/>0 comments, 245 views\n",
       "                    </div>\n",
       "                </div>\n",
       "                "
      ],
      "text/plain": [
       "<Item title:\"GRID3 NGA - Health Facilities Access Risk Profile per Ward\" type:Feature Layer Collection owner:oborkovs_GRID>"
      ]
     },
     "metadata": {},
     "output_type": "display_data"
    },
    {
     "data": {
      "text/html": [
       "<div class=\"item_container\" style=\"height: auto; overflow: hidden; border: 1px solid #cfcfcf; border-radius: 2px; background: #f6fafa; line-height: 1.21429em; padding: 10px;\">\n",
       "                    <div class=\"item_left\" style=\"width: 210px; float: left;\">\n",
       "                       <a href='https://www.arcgis.com/home/item.html?id=f93874395d66496591593210b5eaa28f' target='_blank'>\n",
       "                        <img src='https://www.arcgis.com/sharing/rest//content/items/f93874395d66496591593210b5eaa28f/info/thumbnail/thumbnail1602277874824.png' class=\"itemThumbnail\">\n",
       "                       </a>\n",
       "                    </div>\n",
       "\n",
       "                    <div class=\"item_right\"     style=\"float: none; width: auto; overflow: hidden;\">\n",
       "                        <a href='https://www.arcgis.com/home/item.html?id=f93874395d66496591593210b5eaa28f' target='_blank'><b>GRID3 NGA - Exposure Risk Profile per State</b>\n",
       "                        </a>\n",
       "                        <br/>The \"GRID3 Nigeria Exposure Risk Profile: Gridded Estimates of Population Vulnerability to COVID-19 per State\" profile is an index representing risk of exposure to COVID-19 in Nigeria per State. Categories: 5 (highest risk) to 1 (lowest risk).<img src='https://www.arcgis.com/home/js/jsapi/esri/css/images/item_type_icons/featureshosted16.png' style=\"vertical-align:middle;\">Feature Layer Collection by oborkovs_GRID\n",
       "                        <br/>Last Modified: December 13, 2020\n",
       "                        <br/>0 comments, 391 views\n",
       "                    </div>\n",
       "                </div>\n",
       "                "
      ],
      "text/plain": [
       "<Item title:\"GRID3 NGA - Exposure Risk Profile per State\" type:Feature Layer Collection owner:oborkovs_GRID>"
      ]
     },
     "metadata": {},
     "output_type": "display_data"
    }
   ],
   "source": [
    "from IPython.display import display \n",
    "for item in display_content:\n",
    "    display(item)"
   ]
  },
  {
   "cell_type": "markdown",
   "metadata": {},
   "source": [
    "### Adding Content to Map\n",
    "\n",
    "Layers are the contents of a map. They include a wide range of information about people, the earth, life, and so on, and are composed of imagery, tiles, features, and more."
   ]
  },
  {
   "cell_type": "code",
   "execution_count": 21,
   "metadata": {},
   "outputs": [],
   "source": [
    "poi = display_content \n",
    "map.add_layer(poi)"
   ]
  },
  {
   "cell_type": "code",
   "execution_count": null,
   "metadata": {},
   "outputs": [],
   "source": []
  }
 ],
 "metadata": {
  "kernelspec": {
   "display_name": "Python 3",
   "language": "python",
   "name": "python3"
  },
  "language_info": {
   "codemirror_mode": {
    "name": "ipython",
    "version": 3
   },
   "file_extension": ".py",
   "mimetype": "text/x-python",
   "name": "python",
   "nbconvert_exporter": "python",
   "pygments_lexer": "ipython3",
   "version": "3.7.7"
  }
 },
 "nbformat": 4,
 "nbformat_minor": 4
}
